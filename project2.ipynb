{
 "cells": [
  {
   "cell_type": "code",
   "execution_count": 32,
   "metadata": {},
   "outputs": [
    {
     "name": "stdout",
     "output_type": "stream",
     "text": [
      "36\n"
     ]
    }
   ],
   "source": [
    "#PYTHON DATA STRUCTURES\n",
    "\n",
    "#Question 1 \n",
    "\n",
    "# a Python program that multiplies all the items in a list.\n",
    "\n",
    "def list(liste):\n",
    "    i = 1\n",
    "    for element in liste:           #use the for loop to browse the list\n",
    "        i *= element\n",
    "    return i\n",
    "    \n",
    "my_list = [2, 3, 6]\n",
    "\n",
    "print(list(my_list))\n",
    "\n"
   ]
  },
  {
   "cell_type": "code",
   "execution_count": 33,
   "metadata": {},
   "outputs": [
    {
     "name": "stdout",
     "output_type": "stream",
     "text": [
      "[(2, 1), (1, 2), (2, 3), (4, 4), (2, 5)]\n"
     ]
    }
   ],
   "source": [
    "# Question 2\n",
    "\n",
    "# a Python program to get a list, sorted in increasing order by the last element in each tuple,\n",
    "# from a given list of non-empty tuples.\n",
    "\n",
    "def Sort(list):\n",
    "    return sorted(list, key=lambda x: x[1])     #takes a list or iterable object as input, and returns a new list containing the sorted elements.\n",
    "\n",
    "my_list = [(2, 5), (1, 2), (4, 4), (2, 3), (2, 1)]\n",
    "print(Sort(my_list))"
   ]
  },
  {
   "cell_type": "code",
   "execution_count": 58,
   "metadata": {},
   "outputs": [
    {
     "name": "stdout",
     "output_type": "stream",
     "text": [
      "[(2, 1), (1, 2), (2, 3), (4, 4), (2, 5)]\n",
      "[(2, 1), (1, 2), (2, 3), (4, 4), (2, 5)]\n"
     ]
    }
   ],
   "source": [
    "# Question 2 bis\n",
    "\n",
    "my_list = [(2, 5), (1, 2), (4, 4), (2, 3), (2, 1)]\n",
    "\n",
    "sorted_list = sorted(my_list, key=lambda x: x[1]) #the lambda keyword is used to declare an anonymous function \n",
    "print(sorted_list)\n",
    "\n",
    "my_list.sort(key=lambda x: x[1]) #is an other way to increase by the last element in each tuple\n",
    "print(my_list)"
   ]
  },
  {
   "cell_type": "code",
   "execution_count": 11,
   "metadata": {},
   "outputs": [
    {
     "name": "stdout",
     "output_type": "stream",
     "text": [
      "Counter({'a': 400, 'b': 400, 'd': 400, 'c': 300})\n"
     ]
    }
   ],
   "source": [
    "#Question 3 \n",
    "\n",
    "# a Python program that combines two dictionaries by adding values for common keys.\n",
    "\n",
    "from collections import Counter  #Dict subclass for counting hashable items\n",
    "\n",
    "d1 = {'a': 100, 'b': 200, 'c':300}\n",
    "\n",
    "d2 = {'a': 300, 'b': 200, 'd':400}\n",
    "\n",
    "\n",
    "d3 = Counter(d1) + Counter(d2)\n",
    "print(d3)"
   ]
  },
  {
   "cell_type": "code",
   "execution_count": 18,
   "metadata": {},
   "outputs": [
    {
     "name": "stdout",
     "output_type": "stream",
     "text": [
      "you must enter a whole number !\n",
      "for entry :  6  we have the following dictionary : \n",
      "{1: 1, 2: 4, 3: 9, 4: 16, 5: 25, 6: 36}\n"
     ]
    }
   ],
   "source": [
    "#Question 4\n",
    "\n",
    "#With a given integral number n, write a program to generate a dictionary that contains (i, i*i)\n",
    "# so that is an integral number between 1 and n (both included). Then the program should print the dictionary.\n",
    "\n",
    "while True:\n",
    "    try :\n",
    "        number = int(input(\"please enter a number : \"))\n",
    "    except ValueError :                 # the except block  manages the error\n",
    "        print(\"you must enter a whole number !\")\n",
    "        continue\n",
    "    break\n",
    "dictio = dict({})                           #create an empty dictionary\n",
    "\n",
    "for i in range (1, number+1):               #to include the number, add +1\n",
    "    dictio[i] = i*i\n",
    "\n",
    "print(\"for entry : \", number , \" we have the following dictionary : \")     \n",
    "  \n",
    "print(dictio) "
   ]
  },
  {
   "cell_type": "code",
   "execution_count": 40,
   "metadata": {},
   "outputs": [
    {
     "name": "stdout",
     "output_type": "stream",
     "text": [
      "[('item3', '24.5'), ('item2', '15.10'), ('item1', '12.20')]\n"
     ]
    }
   ],
   "source": [
    "#Question 5 \n",
    "#Write a program to sort a tuple by its float element.\n",
    "\n",
    "def Sort(list):\n",
    "    return sorted(list, key=lambda x: x[1], reverse= True)\n",
    "\n",
    "#the lambda keyword is used to declare an anonymous function \n",
    "#\"reverse\" reverses the order of elements in a list\n",
    "\n",
    "my_list= [('item1', '12.20'), ('item2', '15.10'), ('item3', '24.5')]\n",
    "print(Sort(my_list))"
   ]
  },
  {
   "cell_type": "code",
   "execution_count": 39,
   "metadata": {},
   "outputs": [
    {
     "name": "stdout",
     "output_type": "stream",
     "text": [
      "[('item3', '24.5'), ('item2', '15.10'), ('item1', '12.20')]\n"
     ]
    }
   ],
   "source": [
    "#Question 5 bis\n",
    "\n",
    "\n",
    "list= [('item1', '12.20'), ('item2', '15.10'), ('item3', '24.5')]\n",
    "sorted_list = sorted(list, key=lambda x: x[1], reverse= True) \n",
    "print(sorted_list)"
   ]
  },
  {
   "cell_type": "code",
   "execution_count": 8,
   "metadata": {},
   "outputs": [
    {
     "name": "stdout",
     "output_type": "stream",
     "text": [
      "{'2', '0', '1', '3', '4'}\n",
      "2\n",
      "0\n",
      "1\n",
      "3\n",
      "4\n",
      "{'2', '1', 'new', '3', '4'}\n"
     ]
    }
   ],
   "source": [
    "#Question 6\n",
    "# a Python program to create a set.\n",
    "\n",
    "s = set(['0', '1', '2', '3', '4'])  #Build an unordered collection of unique elements.\n",
    "print(s)\n",
    "\n",
    "# a Python program to iteration over sets.\n",
    "\n",
    "for element in s :\n",
    "    print (element)   #will output unordered elements\n",
    "    \n",
    "# a Python program to add members in a set and to remove items from a given set.\n",
    "s.add(\"new\")     #add \"new\" to the set\n",
    "\n",
    "s.remove(\"0\")    #remove \"0\" item\n",
    "print(s)"
   ]
  }
 ],
 "metadata": {
  "kernelspec": {
   "display_name": "Python 3",
   "language": "python",
   "name": "python3"
  },
  "language_info": {
   "codemirror_mode": {
    "name": "ipython",
    "version": 3
   },
   "file_extension": ".py",
   "mimetype": "text/x-python",
   "name": "python",
   "nbconvert_exporter": "python",
   "pygments_lexer": "ipython3",
   "version": "3.11.4"
  },
  "orig_nbformat": 4
 },
 "nbformat": 4,
 "nbformat_minor": 2
}
